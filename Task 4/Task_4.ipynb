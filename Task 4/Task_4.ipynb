{
 "cells": [
  {
   "cell_type": "code",
   "execution_count": 6,
   "id": "3309c5dc",
   "metadata": {},
   "outputs": [],
   "source": [
    "import numpy as np"
   ]
  },
  {
   "cell_type": "code",
   "execution_count": 7,
   "id": "7c0ec469",
   "metadata": {},
   "outputs": [],
   "source": [
    "def helper_1(v, C):\n",
    "    C1 = np.linalg.inv(\n",
    "        np.matrix([[C[0], C[5], C[4]], [C[5], C[1], C[3]], [C[4], C[3], C[2]]]))\n",
    "    return [C1[0, 0], C1[1, 1], C1[2, 2], C1[1, 2], C1[0, 2], C1[0, 1]], v"
   ]
  },
  {
   "cell_type": "code",
   "execution_count": 8,
   "id": "5c259578",
   "metadata": {},
   "outputs": [],
   "source": [
    "def helper_2(v, C):\n",
    "    I1 = C[0] + C[1] + C[2]\n",
    "    I2 = (-C[0]**2 - C[1]**2 - C[2]**2 - 2*C[3]**2 - 2*C[4]\n",
    "          ** 2 - 2*C[5]**2 + (C[0] + C[1] + C[2]) ** 2)/2\n",
    "    I3 = C[0]*C[1]*C[2] - C[0]*C[3]**2 - C[1] * \\\n",
    "        C[4]**2 - C[2]*C[5]**2 + 2*C[3]*C[4]*C[5]\n",
    "    invariants_list = [I1, I2, I3]\n",
    "    return invariants_list, v"
   ]
  },
  {
   "cell_type": "code",
   "execution_count": 9,
   "id": "93ef2506",
   "metadata": {},
   "outputs": [],
   "source": [
    "def test_many_vectors(vs, C):\n",
    "    accumulator = np.zeros((6))\n",
    "    \n",
    "    # both helper function takes the same input, input stored in tuple\n",
    "    input_bundle = (np.random.rand(3), C)\n",
    "    trace, _, det = helper_2(*input_bundle)[0]\n",
    "    C_inv = helper_1(*input_bundle)[0]\n",
    "\n",
    "    #calculation of each elemet of Matrix-D\n",
    "    D1 = np.array([1, 1, 1, 0, 0, 0])\n",
    "    D2 = trace*D1-C\n",
    "    D3 = det*np.array(C_inv)\n",
    "    D_mat = np.array([D1, D2, D3]).transpose()\n",
    "    \n",
    "    # for-loop has been replaced by efficient list comprehension\n",
    "    accumulator = sum([np.dot(D_mat, v) for v in vs])\n",
    "        \n",
    "    return accumulator / len(vs)"
   ]
  },
  {
   "cell_type": "code",
   "execution_count": 10,
   "id": "70583f83",
   "metadata": {},
   "outputs": [
    {
     "name": "stdout",
     "output_type": "stream",
     "text": [
      "[ 2.00407174  2.00680091  2.00543787  0.          0.         -0.05230429]\n"
     ]
    }
   ],
   "source": [
    "if __name__ == '__main__':\n",
    "    np.random.seed(5)\n",
    "    shear = np.random.uniform(0.01, 0.2)\n",
    "    C = np.array([1 + shear**2, 1, 1, 0, 0, shear])\n",
    "\n",
    "    vs = [np.random.rand(3) for i in range(100000)]\n",
    "\n",
    "    print(test_many_vectors(vs, C))"
   ]
  }
 ],
 "metadata": {
  "kernelspec": {
   "display_name": "Python 3",
   "language": "python",
   "name": "python3"
  },
  "language_info": {
   "codemirror_mode": {
    "name": "ipython",
    "version": 3
   },
   "file_extension": ".py",
   "mimetype": "text/x-python",
   "name": "python",
   "nbconvert_exporter": "python",
   "pygments_lexer": "ipython3",
   "version": "3.8.8"
  }
 },
 "nbformat": 4,
 "nbformat_minor": 5
}
