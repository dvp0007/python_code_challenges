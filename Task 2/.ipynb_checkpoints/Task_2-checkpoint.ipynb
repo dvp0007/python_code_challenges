{
 "cells": [
  {
   "cell_type": "code",
   "execution_count": 7,
   "id": "2e5d2f44",
   "metadata": {},
   "outputs": [],
   "source": [
    "import tensorflow as tf\n",
    "from tensorflow.keras.layers import Dense, Flatten, Conv2D\n",
    "from tensorflow.keras import Model\n",
    "from keras import backend as K\n",
    "import matplotlib.pyplot as plt\n",
    "\n",
    "ce = tf.keras.losses.SparseCategoricalCrossentropy(from_logits=True)\n",
    "opt = tf.keras.optimizers.Adam()\n",
    "train_loss = tf.keras.metrics.Mean()\n",
    "test_loss = tf.keras.metrics.Mean()\n",
    "train_accuracy = tf.keras.metrics.SparseCategoricalAccuracy()\n",
    "test_accuracy = tf.keras.metrics.SparseCategoricalAccuracy()\n",
    "\n",
    "(x_train, y_train), (x_test, y_test) = tf.keras.datasets.mnist.load_data()\n",
    "x_train, x_test = x_train / 255.0, x_test / 255.0\n",
    "\n",
    "x_train = x_train[..., tf.newaxis].astype(\"float32\")\n",
    "x_test = x_test[..., tf.newaxis].astype(\"float32\")\n",
    "\n",
    "ds = tf.data.Dataset.from_tensor_slices(\n",
    "    (x_train, y_train)).shuffle(10000).batch(32)\n",
    "dst = tf.data.Dataset.from_tensor_slices((x_test, y_test)).batch(32)"
   ]
  },
  {
   "cell_type": "code",
   "execution_count": 2,
   "id": "5361798a",
   "metadata": {},
   "outputs": [],
   "source": [
    "class NN(Model):\n",
    "  def __init__(self):\n",
    "    super(NN, self).__init__()\n",
    "    self.conv1 = Conv2D(32, 3, activation='ReLU')\n",
    "    self.d1 = Dense(128, activation='ReLU')\n",
    "    self.d2 = Dense(10)\n",
    "    self.flatten = Flatten()\n",
    "\n",
    "  def call(self, x):\n",
    "    y = self.conv1(x)\n",
    "    y = self.flatten(y)\n",
    "    y = self.d1(y)\n",
    "    return self.d2(y)"
   ]
  },
  {
   "cell_type": "code",
   "execution_count": 3,
   "id": "366121d7",
   "metadata": {},
   "outputs": [],
   "source": [
    "model = NN()\n",
    "\n",
    "@tf.function\n",
    "def train_step(images, labels):  \n",
    "    with tf.GradientTape() as gt:\n",
    "        p = model(images)\n",
    "        loss = ce(labels, p)\n",
    "    gradients = gt.gradient(loss, model.trainable_variables)\n",
    "    opt.apply_gradients(zip(gradients, model.trainable_variables))\n",
    "\n",
    "    train_loss(loss)\n",
    "    train_accuracy(labels, p)\n",
    "\n",
    "@tf.function\n",
    "def test_step(images, labels):\n",
    "    p = model(images)\n",
    "    t_loss = ce(labels, p)\n",
    "\n",
    "    test_loss(t_loss)\n",
    "    test_accuracy(labels, p)\n",
    "\n"
   ]
  },
  {
   "cell_type": "code",
   "execution_count": 4,
   "id": "a5255e76",
   "metadata": {},
   "outputs": [
    {
     "name": "stdout",
     "output_type": "stream",
     "text": [
      "\n",
      " For learning rate:  0.001\n",
      "Training epoch: 1\n",
      "Epoch 1, Loss: 0.139873206615448, Accuracy: 95.85499572753906, Test Loss: 0.06252478063106537, Test Accuracy: 97.91999816894531\n",
      "Training epoch: 2\n",
      "Epoch 2, Loss: 0.04330797493457794, Accuracy: 98.6883316040039, Test Loss: 0.0608750656247139, Test Accuracy: 97.91999816894531\n",
      "Training epoch: 3\n",
      "Epoch 3, Loss: 0.02174942009150982, Accuracy: 99.3116683959961, Test Loss: 0.05319492518901825, Test Accuracy: 98.23999786376953\n",
      "Training epoch: 4\n",
      "Epoch 4, Loss: 0.01184553001075983, Accuracy: 99.60333251953125, Test Loss: 0.06747294217348099, Test Accuracy: 98.15999603271484\n",
      "\n",
      " For learning rate:  0.002\n",
      "Training epoch: 1\n",
      "Epoch 1, Loss: 0.03298448771238327, Accuracy: 98.92832946777344, Test Loss: 0.06454438716173172, Test Accuracy: 98.18000030517578\n",
      "Training epoch: 2\n",
      "Epoch 2, Loss: 0.015413284301757812, Accuracy: 99.46666717529297, Test Loss: 0.08144324272871017, Test Accuracy: 98.1500015258789\n",
      "Training epoch: 3\n",
      "Epoch 3, Loss: 0.013933632522821426, Accuracy: 99.54499816894531, Test Loss: 0.07999921590089798, Test Accuracy: 98.47999572753906\n",
      "Training epoch: 4\n",
      "Epoch 4, Loss: 0.010097119957208633, Accuracy: 99.66166687011719, Test Loss: 0.08064315468072891, Test Accuracy: 98.3699951171875\n",
      "\n",
      " For learning rate:  0.003\n",
      "Training epoch: 1\n",
      "Epoch 1, Loss: 0.020320629701018333, Accuracy: 99.34832763671875, Test Loss: 0.09044729173183441, Test Accuracy: 98.1500015258789\n",
      "Training epoch: 2\n",
      "Epoch 2, Loss: 0.016181886196136475, Accuracy: 99.48999786376953, Test Loss: 0.10861141234636307, Test Accuracy: 98.19999694824219\n",
      "Training epoch: 3\n",
      "Epoch 3, Loss: 0.014313681051135063, Accuracy: 99.59833526611328, Test Loss: 0.10431677103042603, Test Accuracy: 98.25999450683594\n",
      "Training epoch: 4\n",
      "Epoch 4, Loss: 0.013286751694977283, Accuracy: 99.64167022705078, Test Loss: 0.13904042541980743, Test Accuracy: 97.98999786376953\n"
     ]
    }
   ],
   "source": [
    "EPOCHS = 4\n",
    "import numpy as np\n",
    "l_rate = []\n",
    "obtained_accuracy = []\n",
    "    \n",
    "for learning_rate in range(1,4):\n",
    "    \n",
    "    # change the learning rate\n",
    "    my_learning_rate = learning_rate/1000\n",
    "    l_rate.append(my_learning_rate)\n",
    "    #K.set_value(model.optimizer.learning_rate, my_learning_rate)\n",
    "    opt.learning_rate.assign(my_learning_rate)\n",
    "    \n",
    "    print(\"\\n For learning rate: \", my_learning_rate)\n",
    "    for epoch in range(EPOCHS):\n",
    "        train_loss.reset_states()\n",
    "        train_accuracy.reset_states()\n",
    "        test_loss.reset_states()\n",
    "        test_accuracy.reset_states()\n",
    "\n",
    "        print(\"Training epoch:\", epoch+1)\n",
    "        for images, labels in ds:\n",
    "            train_step(images, labels)\n",
    "\n",
    "\n",
    "        for test_images, test_labels in dst:\n",
    "            test_step(test_images, test_labels)\n",
    "    \n",
    "        print(\n",
    "        f'Epoch {epoch + 1}, '\n",
    "        f'Loss: {train_loss.result()}, '\n",
    "        f'Accuracy: {train_accuracy.result() * 100}, '\n",
    "        f'Test Loss: {test_loss.result()}, '\n",
    "        f'Test Accuracy: {test_accuracy.result() * 100}'\n",
    "        )\n",
    "\n",
    "    obtained_accuracy.append((train_accuracy.result() * 100))"
   ]
  },
  {
   "cell_type": "code",
   "execution_count": 15,
   "id": "b6927b65",
   "metadata": {},
   "outputs": [
    {
     "data": {
      "image/png": "[encoded data removed]",
      "text/plain": [
       "<Figure size 432x288 with 1 Axes>"
      ]
     },
     "metadata": {
      "needs_background": "light"
     },
     "output_type": "display_data"
    }
   ],
   "source": [
    "fig = plt.figure()\n",
    "ax = plt.axes()\n",
    "\n",
    "ax.plot(l_rate, obtained_accuracy);"
   ]
  },
  {
   "cell_type": "code",
   "execution_count": null,
   "id": "aae47de5",
   "metadata": {},
   "outputs": [],
   "source": [
    "Task 2.2:\n",
    "\n",
    "2.2) Answer this question: In task_2.py, what is the purpose of the decorator @tf.function?\n",
    "Ans) - @tf.function could be used to create a graph for the corresponding code segment. \n",
    "     - It can be used to significantly reduce code runtime.\n"
   ]
  }
 ],
 "metadata": {
  "kernelspec": {
   "display_name": "Python 3",
   "language": "python",
   "name": "python3"
  },
  "language_info": {
   "codemirror_mode": {
    "name": "ipython",
    "version": 3
   },
   "file_extension": ".py",
   "mimetype": "text/x-python",
   "name": "python",
   "nbconvert_exporter": "python",
   "pygments_lexer": "ipython3",
   "version": "3.8.8"
  }
 },
 "nbformat": 4,
 "nbformat_minor": 5
}
