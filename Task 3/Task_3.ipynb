{
 "cells": [
  {
   "cell_type": "code",
   "execution_count": 1,
   "id": "4b7c72cc",
   "metadata": {},
   "outputs": [],
   "source": [
    "import numpy as np\n",
    "import tqdm\n",
    "import math"
   ]
  },
  {
   "cell_type": "code",
   "execution_count": 2,
   "id": "44ff8a58",
   "metadata": {},
   "outputs": [],
   "source": [
    "def mark_pores_slow(x, pore_centers, pore_radii):\n",
    "    I, J, K = x.shape\n",
    "    for i in tqdm.trange(I):\n",
    "        for j in range(J):\n",
    "            for k in range(K):\n",
    "                position = np.array([i, j, k])\n",
    "                for pore_center, pore_radius in zip(pore_centers, pore_radii):\n",
    "                    delta = pore_center - position\n",
    "                    distance = np.sqrt(np.dot(delta, delta))\n",
    "                    if distance <= pore_radius:\n",
    "                        x[i, j, k] = 1\n",
    "    return x"
   ]
  },
  {
   "cell_type": "code",
   "execution_count": 3,
   "id": "9bec2b44",
   "metadata": {},
   "outputs": [],
   "source": [
    "def mark_pores_fast(x, pore_centers, pore_radii):\n",
    "    \"\"\"\n",
    "    This is for you to implement. It should yield the same result as the above function\n",
    "    mark_pores_slow, but it should run faster.\n",
    "    Hint: If you do it correctly, you should be able to change the below variable 'res'\n",
    "    from 100 to 1000 without a significant slow-down of mark_pores_fast.\n",
    "\n",
    "    Args:\n",
    "        x: Numpy array of spatial domain in 3D. Initialized with 0.\n",
    "        pore_centers: List of numpy arrays representing the centers of spherical pores\n",
    "        pore_radii: List of pore radii\n",
    "\n",
    "    Returns:\n",
    "        x: Each field in x is 1 if in pore, 0 else.\n",
    "    \"\"\"\n",
    "    # run for each pores\n",
    "    for r in tqdm.trange(len(pore_centers)):\n",
    "        \n",
    "        # Create bounding box around each pores in order to reduce complexity\n",
    "        pore_center, pore_radius = pore_centers[r], pore_radii[r]\n",
    "        \n",
    "        # Calculate bounding box minimum value for each pores\n",
    "        lower_limit = [math.floor(i) for i in pore_center-pore_radius]\n",
    "        lower_limit = [0 if i<0 else i for i in lower_limit]\n",
    "        \n",
    "        # Calculate bounding box maximum value for each pores\n",
    "        upper_limit = [math.ceil(i) for i in pore_center+pore_radius+1]\n",
    "        upper_limit =  [dim_size if i>dim_size else i for i, dim_size in zip(upper_limit, x.shape)]\n",
    "        \n",
    "        # run for each points withing the bounding box\n",
    "        for i in range(lower_limit[0], upper_limit[0]):\n",
    "            for j in range(lower_limit[1], upper_limit[1]):\n",
    "                for k in range(lower_limit[2], upper_limit[2]):\n",
    "                    position = np.array([i, j, k])\n",
    "                    delta = pore_center - position\n",
    "                    distance = np.sqrt(np.dot(delta, delta))\n",
    "                    if distance <= pore_radius:\n",
    "                        x[i, j, k] = 1\n",
    "    return x"
   ]
  },
  {
   "cell_type": "code",
   "execution_count": 4,
   "id": "564b9d0e",
   "metadata": {},
   "outputs": [
    {
     "name": "stderr",
     "output_type": "stream",
     "text": [
      "100%|████████████████████████████████████████████████████████████████████████████████| 100/100 [01:44<00:00,  1.05s/it]\n",
      "100%|██████████████████████████████████████████████████████████████████████████████████| 10/10 [00:00<00:00, 19.71it/s]"
     ]
    },
    {
     "name": "stdout",
     "output_type": "stream",
     "text": [
      "Same result from both method: True\n"
     ]
    },
    {
     "name": "stderr",
     "output_type": "stream",
     "text": [
      "\n"
     ]
    }
   ],
   "source": [
    "if __name__ == '__main__':\n",
    "\n",
    "    # initialize domain\n",
    "    res = 100\n",
    "    x = np.zeros((res, res, res))\n",
    "\n",
    "    # sample some random pores\n",
    "    n_pores = 10\n",
    "    pore_radii = [np.random.uniform(3, 10) for n_pore in range(n_pores)]\n",
    "    pore_centers = [np.random.rand(3) * x.shape for n_pore in range(n_pores)]\n",
    "\n",
    "    # mark pores in domain\n",
    "    pore_marker_slow = mark_pores_slow(x, pore_centers, pore_radii)\n",
    "    pore_slow_2 = np.copy(pore_marker_slow)\n",
    "    pore_marker_fast = mark_pores_fast(x, pore_centers, pore_radii)\n",
    "    \n",
    "    print(\"Same result from both method:\" , (pore_marker_fast==pore_slow_2).all())"
   ]
  }
 ],
 "metadata": {
  "kernelspec": {
   "display_name": "Python 3",
   "language": "python",
   "name": "python3"
  },
  "language_info": {
   "codemirror_mode": {
    "name": "ipython",
    "version": 3
   },
   "file_extension": ".py",
   "mimetype": "text/x-python",
   "name": "python",
   "nbconvert_exporter": "python",
   "pygments_lexer": "ipython3",
   "version": "3.8.8"
  }
 },
 "nbformat": 4,
 "nbformat_minor": 5
}
